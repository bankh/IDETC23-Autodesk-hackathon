{
 "cells": [
  {
   "cell_type": "code",
   "execution_count": 1,
   "metadata": {},
   "outputs": [],
   "source": [
    "import openai\n",
    "from pathlib import Path\n",
    "import json\n",
    "from tqdm import tqdm\n",
    "import matplotlib.pyplot as plt\n",
    "from sklearn.metrics import confusion_matrix, ConfusionMatrixDisplay, classification_report\n",
    "import backoff\n",
    "import time\n",
    "from collections import Counter"
   ]
  },
  {
   "cell_type": "code",
   "execution_count": 2,
   "metadata": {},
   "outputs": [],
   "source": [
    "# openai.api_key  = \"open_ai_key\"\n"
   ]
  },
  {
   "cell_type": "code",
   "execution_count": 3,
   "metadata": {},
   "outputs": [],
   "source": [
    "def get_completion(prompt='', model=\"gpt-3.5-turbo\", temperature=0, max_tokens=200):\n",
    "    messages = [{\"role\": \"user\", \"content\": prompt}]\n",
    "\n",
    "    try:\n",
    "        response = openai.ChatCompletion.create(\n",
    "            model=model,\n",
    "            messages=messages,\n",
    "            temperature=temperature,\n",
    "            max_tokens=6\n",
    "        )\n",
    "        response = response.choices[0].message[\"content\"]\n",
    "    except openai.error.APIError as e:\n",
    "        print(f\"OpenAI API Error: {e}\")\n",
    "        response = \"ERROR\"\n",
    "    except openai.error.APIConnectionError as e:\n",
    "        print(f\"OpenAI API Connection Error: {e}\")\n",
    "        response = \"ERROR\"\n",
    "    except Exception as e:\n",
    "        print(f\"Exception: {e}\")\n",
    "        response = \"ERROR\"\n",
    "    return response\n",
    "\n",
    "@backoff.on_exception(backoff.expo, openai.error.RateLimitError)\n",
    "def get_completion_with_backoff(**kwargs):\n",
    "    time.sleep(0.1)\n",
    "    return get_completion(**kwargs)\n",
    "\n",
    "def get_all_files(directory, pattern):\n",
    "    return [f for f in Path(directory).glob(pattern)]\n",
    "\n",
    "def post_process_response(response):\n",
    "    if 'non-ferrous metal' in response:\n",
    "        return 'non-ferrous metal'\n",
    "    elif 'aluminum' in response:\n",
    "        return 'aluminum'\n",
    "    elif 'steel' in response:\n",
    "        return 'steel'\n",
    "    elif 'wood' in response:\n",
    "        return 'wood'\n",
    "    elif 'plastic' in response:\n",
    "        return 'plastic'\n",
    "    elif 'ferrous metal' in response:\n",
    "        return 'ferrous metal'\n",
    "    elif 'other' in response:\n",
    "        return 'other'\n",
    "    else:\n",
    "        return 'other'"
   ]
  },
  {
   "cell_type": "code",
   "execution_count": 4,
   "metadata": {},
   "outputs": [],
   "source": [
    "input_dir = r\"/mnt/audio_ml/IDETC23_data/Fusion360GalleryDataset_23hackathon_test\"\n",
    "input_jsons = get_all_files(input_dir, \"*/assembly.json\")"
   ]
  },
  {
   "cell_type": "code",
   "execution_count": 5,
   "metadata": {},
   "outputs": [
    {
     "name": "stderr",
     "output_type": "stream",
     "text": [
      "100%|██████████| 10/10 [00:00<00:00, 617.85it/s]\n"
     ]
    }
   ],
   "source": [
    "assemblies = {}\n",
    "for input_json in tqdm(input_jsons):\n",
    "    with open(input_json, \"r\", encoding=\"utf-8\") as f:\n",
    "        assembly_data = json.load(f)\n",
    "\n",
    "    bodies = []\n",
    "    for key, value in assembly_data['bodies'].items():\n",
    "        body_id = key\n",
    "        name = value['name']\n",
    "\n",
    "        if name[:4] != 'Body':\n",
    "            bodies.append({'body_id': body_id, 'name': name})\n",
    "\n",
    "    if len(bodies) > 0:\n",
    "        assemblies[input_json.parts[-2]] = bodies"
   ]
  },
  {
   "cell_type": "code",
   "execution_count": 6,
   "metadata": {},
   "outputs": [
    {
     "name": "stdout",
     "output_type": "stream",
     "text": [
      "Number of assemblies in the test set: 10\n"
     ]
    }
   ],
   "source": [
    "print(f\"Number of assemblies in the test set: {len(assemblies)}\")"
   ]
  },
  {
   "cell_type": "code",
   "execution_count": 9,
   "metadata": {},
   "outputs": [],
   "source": [
    "# Deduplicate bodies that have the same name\n",
    "unique_bodies = []\n",
    "\n",
    "body_names = set()  # Using a set for O(1) lookup time\n",
    "for assembly in assemblies.values():\n",
    "    for body in assembly:\n",
    "        body_name = body['name']\n",
    "        if body_name not in body_names:\n",
    "            body_names.add(body_name)\n",
    "            unique_bodies.append(body)"
   ]
  },
  {
   "cell_type": "code",
   "execution_count": 10,
   "metadata": {},
   "outputs": [
    {
     "name": "stdout",
     "output_type": "stream",
     "text": [
      "Number of bodies before deduplication: 106\n",
      "Number of bodies after deduplication: 105\n"
     ]
    }
   ],
   "source": [
    "# Calculate and print the number of bodies before deduplication\n",
    "total_bodies_before = sum([len(assembly) for assembly in assemblies.values()])\n",
    "print(f\"Number of bodies before deduplication: {total_bodies_before}\")\n",
    "\n",
    "# Calculate and print the number of bodies after deduplication\n",
    "total_bodies_after = len(unique_bodies)\n",
    "print(f\"Number of bodies after deduplication: {total_bodies_after}\")\n"
   ]
  },
  {
   "cell_type": "code",
   "execution_count": 11,
   "metadata": {},
   "outputs": [],
   "source": [
    "prompt = \"\"\"\n",
    "The following is the name of a part in an assembly.\n",
    "Given the name of the part, classify the material of the part as either of the following material categories: 'aluminum', 'ferrous metal', 'non-ferrous metal', 'steel', 'plastic', 'wood', or 'other'.\n",
    "If you are unsure, please answer 'other'. Only respond with the material category.\n",
    "\"\"\"\n"
   ]
  },
  {
   "cell_type": "code",
   "execution_count": 12,
   "metadata": {},
   "outputs": [
    {
     "name": "stderr",
     "output_type": "stream",
     "text": [
      "100%|██████████| 105/105 [00:39<00:00,  2.65it/s]\n",
      "100%|██████████| 10/10 [00:00<00:00, 84222.97it/s]\n"
     ]
    }
   ],
   "source": [
    "# Predict materials for unique body names\n",
    "unique_body_predictions = {}\n",
    "for body in tqdm(unique_bodies):\n",
    "    body_name = body['name']\n",
    "    full_prompt = prompt + f\"part name: {body_name}, material: \"\n",
    "    response = get_completion_with_backoff(prompt=full_prompt)\n",
    "    processed_response = post_process_response(response)\n",
    "    unique_body_predictions[body_name] = processed_response\n",
    "\n",
    "# Construct predictions for each assembly based on results from step 2\n",
    "assembly_material_predictions = {}\n",
    "for assembly_id, bodies in tqdm(assemblies.items()):\n",
    "    material_predictions = []\n",
    "\n",
    "    for body in bodies:\n",
    "        body_name = body['name']\n",
    "        # Look up material from step 2\n",
    "        material = unique_body_predictions[body_name]  \n",
    "        material_predictions.append((body['body_id'], material))\n",
    "\n",
    "    assembly_material_predictions[assembly_id] = material_predictions"
   ]
  },
  {
   "cell_type": "code",
   "execution_count": 13,
   "metadata": {},
   "outputs": [
    {
     "name": "stdout",
     "output_type": "stream",
     "text": [
      "Predicted materials for the test set:\n",
      "\n",
      "{'35584_fb213b6b': [('90c4fe0c-0606-11ec-b78f-0ae0e5d97f29', 'other'), ('90c76eda-0606-11ec-99ac-0ae0e5d97f29', 'other'), ('90cb18c6-0606-11ec-8820-0ae0e5d97f29', 'other'), ('90cb8dbe-0606-11ec-8bc1-0ae0e5d97f29', 'other'), ('90cd8992-0606-11ec-8c0d-0ae0e5d97f29', 'other'), ('90d13322-0606-11ec-b81a-0ae0e5d97f29', 'other'), ('90d18114-0606-11ec-8435-0ae0e5d97f29', 'other'), ('90d6b140-0606-11ec-907a-0ae0e5d97f29', 'other'), ('90d7e99c-0606-11ec-ba9e-0ae0e5d97f29', 'plastic'), ('90d85efa-0606-11ec-a64b-0ae0e5d97f29', 'other'), ('90dbe1b6-0606-11ec-8e32-0ae0e5d97f29', 'other'), ('90de798c-0606-11ec-a816-0ae0e5d97f29', 'other'), ('90deeea8-0606-11ec-8c14-0ae0e5d97f29', 'other')], '21762_90d34d16': [('28d76794-05fe-11ec-9188-02631ee0d5cb', 'plastic'), ('28f1a634-05fe-11ec-9632-02631ee0d5cb', 'other'), ('28facdf4-05fe-11ec-92f4-02631ee0d5cb', 'steel'), ('2901f9e4-05fe-11ec-94ce-02631ee0d5cb', 'other'), ('290ad386-05fe-11ec-a405-02631ee0d5cb', 'steel'), ('290be514-05fe-11ec-865a-02631ee0d5cb', 'plastic')], '43630_515b0cd2': [('3cfe9ca4-052a-11ec-9f2f-0288f32f2721', 'ferrous metal'), ('3cff11ca-052a-11ec-9727-0288f32f2721', 'wood'), ('3d17f07a-052a-11ec-8b0b-0288f32f2721', 'other'), ('3d2a6718-052a-11ec-9ceb-0288f32f2721', 'plastic'), ('3d2b78c6-052a-11ec-947a-0288f32f2721', 'plastic'), ('3d2c6318-052a-11ec-a256-0288f32f2721', 'plastic'), ('3d4b83a6-052a-11ec-af33-0288f32f2721', 'plastic'), ('3d5fa81e-052a-11ec-802f-0288f32f2721', 'other')], '74576_73ac0093': [('3b4b11d8-05cc-11ec-b54e-064a63348d37', 'other'), ('3b4b6050-05cc-11ec-b9f5-064a63348d37', 'other'), ('3b4baeb6-05cc-11ec-a4c7-064a63348d37', 'other'), ('3b4bd5f0-05cc-11ec-a6d8-064a63348d37', 'other'), ('3b4bfcec-05cc-11ec-bde0-064a63348d37', 'other'), ('3b4c4b1e-05cc-11ec-93f3-064a63348d37', 'other'), ('3b4c721a-05cc-11ec-a691-064a63348d37', 'other'), ('3b4cc050-05cc-11ec-8b73-064a63348d37', 'other'), ('3b4ce74c-05cc-11ec-a9ce-064a63348d37', 'other'), ('3b4d0e4c-05cc-11ec-9c6d-064a63348d37', 'other'), ('3b4d355a-05cc-11ec-9f42-064a63348d37', 'other'), ('3b4d8388-05cc-11ec-acde-064a63348d37', 'other')], '55199_4d57661f': [('7c08eba2-0593-11ec-9e8c-06921d46248d', 'other'), ('7c0960d4-0593-11ec-a37a-06921d46248d', 'other'), ('7c0b0e76-0593-11ec-a2fa-06921d46248d', 'other'), ('7c0b5cb4-0593-11ec-b049-06921d46248d', 'other'), ('7c0bd1f4-0593-11ec-903a-06921d46248d', 'steel'), ('7c1b3b22-0593-11ec-872b-06921d46248d', 'plastic'), ('7c1b8970-0593-11ec-8056-06921d46248d', 'other'), ('7c1bfe80-0593-11ec-b3d5-06921d46248d', 'other'), ('7c1c2592-0593-11ec-a251-06921d46248d', 'steel'), ('7c4d95c8-0593-11ec-81f6-06921d46248d', 'other'), ('7c82d69e-0593-11ec-902f-06921d46248d', 'other'), ('7c834be8-0593-11ec-8845-06921d46248d', 'other'), ('7c83c11c-0593-11ec-a2a6-06921d46248d', 'other'), ('7cb976fe-0593-11ec-9573-06921d46248d', 'other'), ('7cbf1c4c-0593-11ec-a448-06921d46248d', 'other'), ('7cfb620a-0593-11ec-b63d-06921d46248d', 'other'), ('7cfbfe54-0593-11ec-901d-06921d46248d', 'steel'), ('7d0c51f6-0593-11ec-9d93-06921d46248d', 'other'), ('7d0cee46-0593-11ec-a602-06921d46248d', 'steel'), ('7d0d1552-0593-11ec-8bec-06921d46248d', 'other'), ('7d0f1114-0593-11ec-882f-06921d46248d', 'other'), ('7d0f382c-0593-11ec-bc18-06921d46248d', 'other'), ('7d0f8664-0593-11ec-a200-06921d46248d', 'other')], '24830_8328e407': [('87acb62e-05ba-11ec-959d-06fd2e6e9381', 'other'), ('87ae3ce4-05ba-11ec-a905-06fd2e6e9381', 'other'), ('87af2786-05ba-11ec-8cc9-06fd2e6e9381', 'other'), ('87af4e7a-05ba-11ec-a100-06fd2e6e9381', 'other'), ('87af9cac-05ba-11ec-8391-06fd2e6e9381', 'other'), ('87afeab0-05ba-11ec-93bd-06fd2e6e9381', 'other'), ('87b12314-05ba-11ec-ba8b-06fd2e6e9381', 'other'), ('87b17146-05ba-11ec-81a3-06fd2e6e9381', 'other'), ('87b282ba-05ba-11ec-8f22-06fd2e6e9381', 'other'), ('87e07066-05ba-11ec-8716-06fd2e6e9381', 'steel'), ('87e15ad4-05ba-11ec-abb7-06fd2e6e9381', 'steel'), ('87e1d036-05ba-11ec-9eb5-06fd2e6e9381', 'steel'), ('87e245b4-05ba-11ec-bf65-06fd2e6e9381', 'steel'), ('87e35686-05ba-11ec-ab71-06fd2e6e9381', 'steel'), ('87e3cbf6-05ba-11ec-bf75-06fd2e6e9381', 'steel'), ('87e4b62e-05ba-11ec-b86a-06fd2e6e9381', 'steel'), ('87e55286-05ba-11ec-90b5-06fd2e6e9381', 'steel')], '24735_384e3c90': [('ed626fa2-056b-11ec-ad7b-0ad8e3c9254f', 'steel'), ('ed63a848-056b-11ec-9c03-0ad8e3c9254f', 'steel'), ('ed63f688-056b-11ec-ad9d-0ad8e3c9254f', 'steel'), ('ed6d452e-056b-11ec-a2d6-0ad8e3c9254f', 'steel')], '72966_11b78e5e': [('134d6400-05e8-11ec-a1a5-02760d6896bd', 'other'), ('135f174a-05e8-11ec-a4a9-02760d6896bd', 'other')], '131068_085c0ed9': [('bbdf29da-060c-11ec-a52a-02ef91e90f5f', 'steel'), ('bbdf9f22-060c-11ec-ac81-02ef91e90f5f', 'other'), ('bbe89f86-060c-11ec-8111-02ef91e90f5f', 'steel'), ('bbee1dec-060c-11ec-aabe-02ef91e90f5f', 'steel'), ('bbee44f6-060c-11ec-bd48-02ef91e90f5f', 'steel'), ('bbeeba42-060c-11ec-9ec2-02ef91e90f5f', 'other'), ('bbef0864-060c-11ec-82bb-02ef91e90f5f', 'steel'), ('bbef567a-060c-11ec-a807-02ef91e90f5f', 'steel'), ('bbefa4b6-060c-11ec-b68e-02ef91e90f5f', 'steel')], '35419_aa5ab53d': [('1588b8de-0579-11ec-bbe0-06cb0e3bb9e7', 'other'), ('1589ca4a-0579-11ec-b7b0-06cb0e3bb9e7', 'other'), ('158a1880-0579-11ec-a5d1-06cb0e3bb9e7', 'other'), ('158a8d9c-0579-11ec-a5f4-06cb0e3bb9e7', 'other'), ('158adbac-0579-11ec-98ce-06cb0e3bb9e7', 'other'), ('158b02e6-0579-11ec-9378-06cb0e3bb9e7', 'plastic'), ('158b50e6-0579-11ec-9d3c-06cb0e3bb9e7', 'other'), ('158b77e4-0579-11ec-84ee-06cb0e3bb9e7', 'plastic'), ('158bc5f6-0579-11ec-b85c-06cb0e3bb9e7', 'other'), ('158c61dc-0579-11ec-a101-06cb0e3bb9e7', 'other'), ('158d2538-0579-11ec-8350-06cb0e3bb9e7', 'other'), ('158d4c5c-0579-11ec-b2f5-06cb0e3bb9e7', 'other')]}\n"
     ]
    }
   ],
   "source": [
    "print(f\"Predicted materials for the test set:\\n\\n{assembly_material_predictions}\")"
   ]
  },
  {
   "cell_type": "code",
   "execution_count": 14,
   "metadata": {},
   "outputs": [],
   "source": [
    "with open('../submission/submission.csv', 'w') as file:\n",
    "    file.write(\"assembly_id,body_id,material_category\\n\")\n",
    "\n",
    "    for assembly_id, predictions in assembly_material_predictions.items():\n",
    "        for body_id, material in predictions:\n",
    "            file.write(f\"{assembly_id},{body_id},{material}\\n\")"
   ]
  }
 ],
 "metadata": {
  "kernelspec": {
   "display_name": "idetc",
   "language": "python",
   "name": "python3"
  },
  "language_info": {
   "codemirror_mode": {
    "name": "ipython",
    "version": 3
   },
   "file_extension": ".py",
   "mimetype": "text/x-python",
   "name": "python",
   "nbconvert_exporter": "python",
   "pygments_lexer": "ipython3",
   "version": "3.8.17"
  },
  "orig_nbformat": 4
 },
 "nbformat": 4,
 "nbformat_minor": 2
}
